{
 "cells": [
  {
   "cell_type": "code",
   "execution_count": 5,
   "id": "6ca05e2a",
   "metadata": {},
   "outputs": [],
   "source": [
    "import pandas as pd\n",
    "import numpy as np\n",
    "import matplotlib as py\n",
    "import seaborn as sns"
   ]
  },
  {
   "cell_type": "code",
   "execution_count": 6,
   "id": "1a5d3aff",
   "metadata": {},
   "outputs": [],
   "source": [
    "df = pd.read_csv('Doctor_final.csv', encoding='latin1')"
   ]
  },
  {
   "cell_type": "code",
   "execution_count": 7,
   "id": "0de37b78",
   "metadata": {},
   "outputs": [
    {
     "data": {
      "text/html": [
       "<div>\n",
       "<style scoped>\n",
       "    .dataframe tbody tr th:only-of-type {\n",
       "        vertical-align: middle;\n",
       "    }\n",
       "\n",
       "    .dataframe tbody tr th {\n",
       "        vertical-align: top;\n",
       "    }\n",
       "\n",
       "    .dataframe thead th {\n",
       "        text-align: right;\n",
       "    }\n",
       "</style>\n",
       "<table border=\"1\" class=\"dataframe\">\n",
       "  <thead>\n",
       "    <tr style=\"text-align: right;\">\n",
       "      <th></th>\n",
       "      <th>Name of Doctor</th>\n",
       "      <th>Speciality</th>\n",
       "      <th>State</th>\n",
       "      <th>City</th>\n",
       "      <th>Rating</th>\n",
       "      <th>Phone No.</th>\n",
       "    </tr>\n",
       "  </thead>\n",
       "  <tbody>\n",
       "    <tr>\n",
       "      <th>0</th>\n",
       "      <td>DR. BAPAT S.P.</td>\n",
       "      <td>Cardiologist</td>\n",
       "      <td>MADHYA PRADESH</td>\n",
       "      <td>SAGAR</td>\n",
       "      <td>1.0</td>\n",
       "      <td>9100000293</td>\n",
       "    </tr>\n",
       "    <tr>\n",
       "      <th>1</th>\n",
       "      <td>DR. BASARGE MAHESH S.</td>\n",
       "      <td>Cardiologist</td>\n",
       "      <td>GUJARAT</td>\n",
       "      <td>VADODARA</td>\n",
       "      <td>7.0</td>\n",
       "      <td>9100000294</td>\n",
       "    </tr>\n",
       "    <tr>\n",
       "      <th>2</th>\n",
       "      <td>DR. BATRA ANIL</td>\n",
       "      <td>Cardiologist</td>\n",
       "      <td>MADHYA PRADESH</td>\n",
       "      <td>BHOPAL</td>\n",
       "      <td>1.0</td>\n",
       "      <td>9100000295</td>\n",
       "    </tr>\n",
       "    <tr>\n",
       "      <th>3</th>\n",
       "      <td>DR. BHALANI NIRAV</td>\n",
       "      <td>Cardiologist</td>\n",
       "      <td>GUJARAT</td>\n",
       "      <td>VADODARA</td>\n",
       "      <td>6.0</td>\n",
       "      <td>9100000296</td>\n",
       "    </tr>\n",
       "    <tr>\n",
       "      <th>4</th>\n",
       "      <td>DR. BHARANI ANIL</td>\n",
       "      <td>Cardiologist</td>\n",
       "      <td>MADHYA PRADESH</td>\n",
       "      <td>INDORE</td>\n",
       "      <td>8.0</td>\n",
       "      <td>9100000297</td>\n",
       "    </tr>\n",
       "  </tbody>\n",
       "</table>\n",
       "</div>"
      ],
      "text/plain": [
       "          Name of Doctor    Speciality           State      City  Rating  \\\n",
       "0         DR. BAPAT S.P.  Cardiologist  MADHYA PRADESH     SAGAR     1.0   \n",
       "1  DR. BASARGE MAHESH S.  Cardiologist         GUJARAT  VADODARA     7.0   \n",
       "2         DR. BATRA ANIL  Cardiologist  MADHYA PRADESH    BHOPAL     1.0   \n",
       "3      DR. BHALANI NIRAV  Cardiologist         GUJARAT  VADODARA     6.0   \n",
       "4       DR. BHARANI ANIL  Cardiologist  MADHYA PRADESH    INDORE     8.0   \n",
       "\n",
       "    Phone No.  \n",
       "0  9100000293  \n",
       "1  9100000294  \n",
       "2  9100000295  \n",
       "3  9100000296  \n",
       "4  9100000297  "
      ]
     },
     "execution_count": 7,
     "metadata": {},
     "output_type": "execute_result"
    }
   ],
   "source": [
    "df.head(5)"
   ]
  },
  {
   "cell_type": "code",
   "execution_count": 8,
   "id": "258fb630",
   "metadata": {},
   "outputs": [
    {
     "data": {
      "text/html": [
       "<div>\n",
       "<style scoped>\n",
       "    .dataframe tbody tr th:only-of-type {\n",
       "        vertical-align: middle;\n",
       "    }\n",
       "\n",
       "    .dataframe tbody tr th {\n",
       "        vertical-align: top;\n",
       "    }\n",
       "\n",
       "    .dataframe thead th {\n",
       "        text-align: right;\n",
       "    }\n",
       "</style>\n",
       "<table border=\"1\" class=\"dataframe\">\n",
       "  <thead>\n",
       "    <tr style=\"text-align: right;\">\n",
       "      <th></th>\n",
       "      <th>Name of Doctor</th>\n",
       "      <th>Speciality</th>\n",
       "      <th>State</th>\n",
       "      <th>City</th>\n",
       "      <th>Rating</th>\n",
       "      <th>Phone No.</th>\n",
       "    </tr>\n",
       "  </thead>\n",
       "  <tbody>\n",
       "    <tr>\n",
       "      <th>0</th>\n",
       "      <td>DR. BAPAT S.P.</td>\n",
       "      <td>Cardiologist</td>\n",
       "      <td>MADHYA PRADESH</td>\n",
       "      <td>SAGAR</td>\n",
       "      <td>1.0</td>\n",
       "      <td>9100000293</td>\n",
       "    </tr>\n",
       "    <tr>\n",
       "      <th>1</th>\n",
       "      <td>DR. BASARGE MAHESH S.</td>\n",
       "      <td>Cardiologist</td>\n",
       "      <td>GUJARAT</td>\n",
       "      <td>VADODARA</td>\n",
       "      <td>7.0</td>\n",
       "      <td>9100000294</td>\n",
       "    </tr>\n",
       "    <tr>\n",
       "      <th>2</th>\n",
       "      <td>DR. BATRA ANIL</td>\n",
       "      <td>Cardiologist</td>\n",
       "      <td>MADHYA PRADESH</td>\n",
       "      <td>BHOPAL</td>\n",
       "      <td>1.0</td>\n",
       "      <td>9100000295</td>\n",
       "    </tr>\n",
       "    <tr>\n",
       "      <th>3</th>\n",
       "      <td>DR. BHALANI NIRAV</td>\n",
       "      <td>Cardiologist</td>\n",
       "      <td>GUJARAT</td>\n",
       "      <td>VADODARA</td>\n",
       "      <td>6.0</td>\n",
       "      <td>9100000296</td>\n",
       "    </tr>\n",
       "    <tr>\n",
       "      <th>4</th>\n",
       "      <td>DR. BHARANI ANIL</td>\n",
       "      <td>Cardiologist</td>\n",
       "      <td>MADHYA PRADESH</td>\n",
       "      <td>INDORE</td>\n",
       "      <td>8.0</td>\n",
       "      <td>9100000297</td>\n",
       "    </tr>\n",
       "    <tr>\n",
       "      <th>...</th>\n",
       "      <td>...</td>\n",
       "      <td>...</td>\n",
       "      <td>...</td>\n",
       "      <td>...</td>\n",
       "      <td>...</td>\n",
       "      <td>...</td>\n",
       "    </tr>\n",
       "    <tr>\n",
       "      <th>583</th>\n",
       "      <td>Dr. Sneha Iyer</td>\n",
       "      <td>Dermatologist</td>\n",
       "      <td>Maharashtra</td>\n",
       "      <td>Pune</td>\n",
       "      <td>8.0</td>\n",
       "      <td>9875888054</td>\n",
       "    </tr>\n",
       "    <tr>\n",
       "      <th>584</th>\n",
       "      <td>Dr. Swati Verma</td>\n",
       "      <td>General Physician</td>\n",
       "      <td>Delhi</td>\n",
       "      <td>Delhi</td>\n",
       "      <td>4.0</td>\n",
       "      <td>9825598623</td>\n",
       "    </tr>\n",
       "    <tr>\n",
       "      <th>585</th>\n",
       "      <td>Dr. Pooja Bose</td>\n",
       "      <td>Orthopedic</td>\n",
       "      <td>Uttar Pradesh</td>\n",
       "      <td>Lucknow</td>\n",
       "      <td>5.0</td>\n",
       "      <td>9810736457</td>\n",
       "    </tr>\n",
       "    <tr>\n",
       "      <th>586</th>\n",
       "      <td>Dr. Kunal Iyer</td>\n",
       "      <td>Cardiologist</td>\n",
       "      <td>Karnataka</td>\n",
       "      <td>Bangalore</td>\n",
       "      <td>2.0</td>\n",
       "      <td>9829733693</td>\n",
       "    </tr>\n",
       "    <tr>\n",
       "      <th>587</th>\n",
       "      <td>NaN</td>\n",
       "      <td>NaN</td>\n",
       "      <td>NaN</td>\n",
       "      <td>NaN</td>\n",
       "      <td>NaN</td>\n",
       "      <td>9829733694</td>\n",
       "    </tr>\n",
       "  </tbody>\n",
       "</table>\n",
       "<p>588 rows × 6 columns</p>\n",
       "</div>"
      ],
      "text/plain": [
       "            Name of Doctor         Speciality           State       City  \\\n",
       "0           DR. BAPAT S.P.       Cardiologist  MADHYA PRADESH      SAGAR   \n",
       "1    DR. BASARGE MAHESH S.       Cardiologist         GUJARAT   VADODARA   \n",
       "2           DR. BATRA ANIL       Cardiologist  MADHYA PRADESH     BHOPAL   \n",
       "3        DR. BHALANI NIRAV       Cardiologist         GUJARAT   VADODARA   \n",
       "4         DR. BHARANI ANIL       Cardiologist  MADHYA PRADESH     INDORE   \n",
       "..                     ...                ...             ...        ...   \n",
       "583         Dr. Sneha Iyer      Dermatologist     Maharashtra       Pune   \n",
       "584        Dr. Swati Verma  General Physician           Delhi      Delhi   \n",
       "585         Dr. Pooja Bose         Orthopedic   Uttar Pradesh    Lucknow   \n",
       "586         Dr. Kunal Iyer       Cardiologist       Karnataka  Bangalore   \n",
       "587                    NaN                NaN             NaN        NaN   \n",
       "\n",
       "     Rating   Phone No.  \n",
       "0       1.0  9100000293  \n",
       "1       7.0  9100000294  \n",
       "2       1.0  9100000295  \n",
       "3       6.0  9100000296  \n",
       "4       8.0  9100000297  \n",
       "..      ...         ...  \n",
       "583     8.0  9875888054  \n",
       "584     4.0  9825598623  \n",
       "585     5.0  9810736457  \n",
       "586     2.0  9829733693  \n",
       "587     NaN  9829733694  \n",
       "\n",
       "[588 rows x 6 columns]"
      ]
     },
     "execution_count": 8,
     "metadata": {},
     "output_type": "execute_result"
    }
   ],
   "source": [
    "df"
   ]
  },
  {
   "cell_type": "code",
   "execution_count": 9,
   "id": "e58cd83f",
   "metadata": {},
   "outputs": [
    {
     "data": {
      "text/plain": [
       "(588, 6)"
      ]
     },
     "execution_count": 9,
     "metadata": {},
     "output_type": "execute_result"
    }
   ],
   "source": [
    "df.shape"
   ]
  },
  {
   "cell_type": "code",
   "execution_count": 10,
   "id": "5d73925c",
   "metadata": {},
   "outputs": [
    {
     "data": {
      "text/plain": [
       "<bound method DataFrame.info of             Name of Doctor         Speciality           State       City  \\\n",
       "0           DR. BAPAT S.P.       Cardiologist  MADHYA PRADESH      SAGAR   \n",
       "1    DR. BASARGE MAHESH S.       Cardiologist         GUJARAT   VADODARA   \n",
       "2           DR. BATRA ANIL       Cardiologist  MADHYA PRADESH     BHOPAL   \n",
       "3        DR. BHALANI NIRAV       Cardiologist         GUJARAT   VADODARA   \n",
       "4         DR. BHARANI ANIL       Cardiologist  MADHYA PRADESH     INDORE   \n",
       "..                     ...                ...             ...        ...   \n",
       "583         Dr. Sneha Iyer      Dermatologist     Maharashtra       Pune   \n",
       "584        Dr. Swati Verma  General Physician           Delhi      Delhi   \n",
       "585         Dr. Pooja Bose         Orthopedic   Uttar Pradesh    Lucknow   \n",
       "586         Dr. Kunal Iyer       Cardiologist       Karnataka  Bangalore   \n",
       "587                    NaN                NaN             NaN        NaN   \n",
       "\n",
       "     Rating   Phone No.  \n",
       "0       1.0  9100000293  \n",
       "1       7.0  9100000294  \n",
       "2       1.0  9100000295  \n",
       "3       6.0  9100000296  \n",
       "4       8.0  9100000297  \n",
       "..      ...         ...  \n",
       "583     8.0  9875888054  \n",
       "584     4.0  9825598623  \n",
       "585     5.0  9810736457  \n",
       "586     2.0  9829733693  \n",
       "587     NaN  9829733694  \n",
       "\n",
       "[588 rows x 6 columns]>"
      ]
     },
     "execution_count": 10,
     "metadata": {},
     "output_type": "execute_result"
    }
   ],
   "source": [
    "df.info"
   ]
  },
  {
   "cell_type": "code",
   "execution_count": 11,
   "id": "6c766245",
   "metadata": {},
   "outputs": [
    {
     "data": {
      "text/html": [
       "<div>\n",
       "<style scoped>\n",
       "    .dataframe tbody tr th:only-of-type {\n",
       "        vertical-align: middle;\n",
       "    }\n",
       "\n",
       "    .dataframe tbody tr th {\n",
       "        vertical-align: top;\n",
       "    }\n",
       "\n",
       "    .dataframe thead th {\n",
       "        text-align: right;\n",
       "    }\n",
       "</style>\n",
       "<table border=\"1\" class=\"dataframe\">\n",
       "  <thead>\n",
       "    <tr style=\"text-align: right;\">\n",
       "      <th></th>\n",
       "      <th>Name of Doctor</th>\n",
       "      <th>Speciality</th>\n",
       "      <th>State</th>\n",
       "      <th>City</th>\n",
       "      <th>Rating</th>\n",
       "      <th>Phone No.</th>\n",
       "    </tr>\n",
       "  </thead>\n",
       "  <tbody>\n",
       "    <tr>\n",
       "      <th>587</th>\n",
       "      <td>NaN</td>\n",
       "      <td>NaN</td>\n",
       "      <td>NaN</td>\n",
       "      <td>NaN</td>\n",
       "      <td>NaN</td>\n",
       "      <td>9829733694</td>\n",
       "    </tr>\n",
       "  </tbody>\n",
       "</table>\n",
       "</div>"
      ],
      "text/plain": [
       "    Name of Doctor Speciality State City  Rating   Phone No.\n",
       "587            NaN        NaN   NaN  NaN     NaN  9829733694"
      ]
     },
     "execution_count": 11,
     "metadata": {},
     "output_type": "execute_result"
    }
   ],
   "source": [
    "df[df.isna().any(axis=1)]"
   ]
  },
  {
   "cell_type": "code",
   "execution_count": 12,
   "id": "9f18d0e9",
   "metadata": {},
   "outputs": [
    {
     "data": {
      "text/html": [
       "<div>\n",
       "<style scoped>\n",
       "    .dataframe tbody tr th:only-of-type {\n",
       "        vertical-align: middle;\n",
       "    }\n",
       "\n",
       "    .dataframe tbody tr th {\n",
       "        vertical-align: top;\n",
       "    }\n",
       "\n",
       "    .dataframe thead th {\n",
       "        text-align: right;\n",
       "    }\n",
       "</style>\n",
       "<table border=\"1\" class=\"dataframe\">\n",
       "  <thead>\n",
       "    <tr style=\"text-align: right;\">\n",
       "      <th></th>\n",
       "      <th>Name of Doctor</th>\n",
       "      <th>Speciality</th>\n",
       "      <th>State</th>\n",
       "      <th>City</th>\n",
       "      <th>Rating</th>\n",
       "      <th>Phone No.</th>\n",
       "    </tr>\n",
       "  </thead>\n",
       "  <tbody>\n",
       "    <tr>\n",
       "      <th>0</th>\n",
       "      <td>DR. BAPAT S.P.</td>\n",
       "      <td>Cardiologist</td>\n",
       "      <td>MADHYA PRADESH</td>\n",
       "      <td>SAGAR</td>\n",
       "      <td>1.0</td>\n",
       "      <td>9100000293</td>\n",
       "    </tr>\n",
       "    <tr>\n",
       "      <th>1</th>\n",
       "      <td>DR. BASARGE MAHESH S.</td>\n",
       "      <td>Cardiologist</td>\n",
       "      <td>GUJARAT</td>\n",
       "      <td>VADODARA</td>\n",
       "      <td>7.0</td>\n",
       "      <td>9100000294</td>\n",
       "    </tr>\n",
       "    <tr>\n",
       "      <th>2</th>\n",
       "      <td>DR. BATRA ANIL</td>\n",
       "      <td>Cardiologist</td>\n",
       "      <td>MADHYA PRADESH</td>\n",
       "      <td>BHOPAL</td>\n",
       "      <td>1.0</td>\n",
       "      <td>9100000295</td>\n",
       "    </tr>\n",
       "    <tr>\n",
       "      <th>3</th>\n",
       "      <td>DR. BHALANI NIRAV</td>\n",
       "      <td>Cardiologist</td>\n",
       "      <td>GUJARAT</td>\n",
       "      <td>VADODARA</td>\n",
       "      <td>6.0</td>\n",
       "      <td>9100000296</td>\n",
       "    </tr>\n",
       "    <tr>\n",
       "      <th>4</th>\n",
       "      <td>DR. BHARANI ANIL</td>\n",
       "      <td>Cardiologist</td>\n",
       "      <td>MADHYA PRADESH</td>\n",
       "      <td>INDORE</td>\n",
       "      <td>8.0</td>\n",
       "      <td>9100000297</td>\n",
       "    </tr>\n",
       "    <tr>\n",
       "      <th>...</th>\n",
       "      <td>...</td>\n",
       "      <td>...</td>\n",
       "      <td>...</td>\n",
       "      <td>...</td>\n",
       "      <td>...</td>\n",
       "      <td>...</td>\n",
       "    </tr>\n",
       "    <tr>\n",
       "      <th>582</th>\n",
       "      <td>Dr. Deepak Gupta</td>\n",
       "      <td>Ophthalmologist</td>\n",
       "      <td>Uttar Pradesh</td>\n",
       "      <td>Lucknow</td>\n",
       "      <td>5.0</td>\n",
       "      <td>9818835860</td>\n",
       "    </tr>\n",
       "    <tr>\n",
       "      <th>583</th>\n",
       "      <td>Dr. Sneha Iyer</td>\n",
       "      <td>Dermatologist</td>\n",
       "      <td>Maharashtra</td>\n",
       "      <td>Pune</td>\n",
       "      <td>8.0</td>\n",
       "      <td>9875888054</td>\n",
       "    </tr>\n",
       "    <tr>\n",
       "      <th>584</th>\n",
       "      <td>Dr. Swati Verma</td>\n",
       "      <td>General Physician</td>\n",
       "      <td>Delhi</td>\n",
       "      <td>Delhi</td>\n",
       "      <td>4.0</td>\n",
       "      <td>9825598623</td>\n",
       "    </tr>\n",
       "    <tr>\n",
       "      <th>585</th>\n",
       "      <td>Dr. Pooja Bose</td>\n",
       "      <td>Orthopedic</td>\n",
       "      <td>Uttar Pradesh</td>\n",
       "      <td>Lucknow</td>\n",
       "      <td>5.0</td>\n",
       "      <td>9810736457</td>\n",
       "    </tr>\n",
       "    <tr>\n",
       "      <th>586</th>\n",
       "      <td>Dr. Kunal Iyer</td>\n",
       "      <td>Cardiologist</td>\n",
       "      <td>Karnataka</td>\n",
       "      <td>Bangalore</td>\n",
       "      <td>2.0</td>\n",
       "      <td>9829733693</td>\n",
       "    </tr>\n",
       "  </tbody>\n",
       "</table>\n",
       "<p>587 rows × 6 columns</p>\n",
       "</div>"
      ],
      "text/plain": [
       "            Name of Doctor         Speciality           State       City  \\\n",
       "0           DR. BAPAT S.P.       Cardiologist  MADHYA PRADESH      SAGAR   \n",
       "1    DR. BASARGE MAHESH S.       Cardiologist         GUJARAT   VADODARA   \n",
       "2           DR. BATRA ANIL       Cardiologist  MADHYA PRADESH     BHOPAL   \n",
       "3        DR. BHALANI NIRAV       Cardiologist         GUJARAT   VADODARA   \n",
       "4         DR. BHARANI ANIL       Cardiologist  MADHYA PRADESH     INDORE   \n",
       "..                     ...                ...             ...        ...   \n",
       "582       Dr. Deepak Gupta    Ophthalmologist   Uttar Pradesh    Lucknow   \n",
       "583         Dr. Sneha Iyer      Dermatologist     Maharashtra       Pune   \n",
       "584        Dr. Swati Verma  General Physician           Delhi      Delhi   \n",
       "585         Dr. Pooja Bose         Orthopedic   Uttar Pradesh    Lucknow   \n",
       "586         Dr. Kunal Iyer       Cardiologist       Karnataka  Bangalore   \n",
       "\n",
       "     Rating   Phone No.  \n",
       "0       1.0  9100000293  \n",
       "1       7.0  9100000294  \n",
       "2       1.0  9100000295  \n",
       "3       6.0  9100000296  \n",
       "4       8.0  9100000297  \n",
       "..      ...         ...  \n",
       "582     5.0  9818835860  \n",
       "583     8.0  9875888054  \n",
       "584     4.0  9825598623  \n",
       "585     5.0  9810736457  \n",
       "586     2.0  9829733693  \n",
       "\n",
       "[587 rows x 6 columns]"
      ]
     },
     "execution_count": 12,
     "metadata": {},
     "output_type": "execute_result"
    }
   ],
   "source": [
    "df=df.dropna()\n",
    "df"
   ]
  },
  {
   "cell_type": "code",
   "execution_count": 13,
   "id": "c4e7252a",
   "metadata": {},
   "outputs": [
    {
     "data": {
      "text/html": [
       "<div>\n",
       "<style scoped>\n",
       "    .dataframe tbody tr th:only-of-type {\n",
       "        vertical-align: middle;\n",
       "    }\n",
       "\n",
       "    .dataframe tbody tr th {\n",
       "        vertical-align: top;\n",
       "    }\n",
       "\n",
       "    .dataframe thead th {\n",
       "        text-align: right;\n",
       "    }\n",
       "</style>\n",
       "<table border=\"1\" class=\"dataframe\">\n",
       "  <thead>\n",
       "    <tr style=\"text-align: right;\">\n",
       "      <th></th>\n",
       "      <th>Name of Doctor</th>\n",
       "      <th>Speciality</th>\n",
       "      <th>State</th>\n",
       "      <th>City</th>\n",
       "      <th>Rating</th>\n",
       "      <th>Phone No.</th>\n",
       "    </tr>\n",
       "  </thead>\n",
       "  <tbody>\n",
       "  </tbody>\n",
       "</table>\n",
       "</div>"
      ],
      "text/plain": [
       "Empty DataFrame\n",
       "Columns: [Name of Doctor, Speciality, State, City, Rating, Phone No.]\n",
       "Index: []"
      ]
     },
     "execution_count": 13,
     "metadata": {},
     "output_type": "execute_result"
    }
   ],
   "source": [
    "df[df.isna().any(axis=1)]"
   ]
  },
  {
   "cell_type": "code",
   "execution_count": 14,
   "id": "ba0f72b4",
   "metadata": {},
   "outputs": [
    {
     "data": {
      "text/plain": [
       "0"
      ]
     },
     "execution_count": 14,
     "metadata": {},
     "output_type": "execute_result"
    }
   ],
   "source": [
    "df.duplicated().sum()"
   ]
  },
  {
   "cell_type": "code",
   "execution_count": 15,
   "id": "f3470494",
   "metadata": {},
   "outputs": [
    {
     "data": {
      "text/plain": [
       "<Axes: xlabel='Rating'>"
      ]
     },
     "execution_count": 15,
     "metadata": {},
     "output_type": "execute_result"
    },
    {
     "data": {
      "image/png": "[encoded data removed]",
      "text/plain": [
       "<Figure size 640x480 with 1 Axes>"
      ]
     },
     "metadata": {},
     "output_type": "display_data"
    }
   ],
   "source": [
    "sns.boxplot(x=df.Rating)"
   ]
  },
  {
   "cell_type": "code",
   "execution_count": 16,
   "id": "6d054a43",
   "metadata": {},
   "outputs": [
    {
     "data": {
      "text/html": [
       "<div>\n",
       "<style scoped>\n",
       "    .dataframe tbody tr th:only-of-type {\n",
       "        vertical-align: middle;\n",
       "    }\n",
       "\n",
       "    .dataframe tbody tr th {\n",
       "        vertical-align: top;\n",
       "    }\n",
       "\n",
       "    .dataframe thead th {\n",
       "        text-align: right;\n",
       "    }\n",
       "</style>\n",
       "<table border=\"1\" class=\"dataframe\">\n",
       "  <thead>\n",
       "    <tr style=\"text-align: right;\">\n",
       "      <th></th>\n",
       "      <th>Rating</th>\n",
       "      <th>Phone No.</th>\n",
       "    </tr>\n",
       "  </thead>\n",
       "  <tbody>\n",
       "    <tr>\n",
       "      <th>count</th>\n",
       "      <td>587.000000</td>\n",
       "      <td>5.870000e+02</td>\n",
       "    </tr>\n",
       "    <tr>\n",
       "      <th>mean</th>\n",
       "      <td>5.413969</td>\n",
       "      <td>8.984574e+09</td>\n",
       "    </tr>\n",
       "    <tr>\n",
       "      <th>std</th>\n",
       "      <td>2.885294</td>\n",
       "      <td>8.721737e+08</td>\n",
       "    </tr>\n",
       "    <tr>\n",
       "      <th>min</th>\n",
       "      <td>1.000000</td>\n",
       "      <td>5.119900e+09</td>\n",
       "    </tr>\n",
       "    <tr>\n",
       "      <th>25%</th>\n",
       "      <td>3.000000</td>\n",
       "      <td>9.100000e+09</td>\n",
       "    </tr>\n",
       "    <tr>\n",
       "      <th>50%</th>\n",
       "      <td>6.000000</td>\n",
       "      <td>9.100000e+09</td>\n",
       "    </tr>\n",
       "    <tr>\n",
       "      <th>75%</th>\n",
       "      <td>8.000000</td>\n",
       "      <td>9.641123e+09</td>\n",
       "    </tr>\n",
       "    <tr>\n",
       "      <th>max</th>\n",
       "      <td>10.000000</td>\n",
       "      <td>9.998888e+09</td>\n",
       "    </tr>\n",
       "  </tbody>\n",
       "</table>\n",
       "</div>"
      ],
      "text/plain": [
       "           Rating     Phone No.\n",
       "count  587.000000  5.870000e+02\n",
       "mean     5.413969  8.984574e+09\n",
       "std      2.885294  8.721737e+08\n",
       "min      1.000000  5.119900e+09\n",
       "25%      3.000000  9.100000e+09\n",
       "50%      6.000000  9.100000e+09\n",
       "75%      8.000000  9.641123e+09\n",
       "max     10.000000  9.998888e+09"
      ]
     },
     "execution_count": 16,
     "metadata": {},
     "output_type": "execute_result"
    }
   ],
   "source": [
    "df.describe()"
   ]
  },
  {
   "cell_type": "code",
   "execution_count": 17,
   "id": "cf8fceb1",
   "metadata": {},
   "outputs": [
    {
     "data": {
      "text/plain": [
       "<Axes: xlabel='Speciality'>"
      ]
     },
     "execution_count": 17,
     "metadata": {},
     "output_type": "execute_result"
    },
    {
     "data": {
      "image/png": "[encoded data removed]",
      "text/plain": [
       "<Figure size 640x480 with 1 Axes>"
      ]
     },
     "metadata": {},
     "output_type": "display_data"
    }
   ],
   "source": [
    "df[\"Speciality\"].value_counts().plot(kind=\"bar\")"
   ]
  },
  {
   "cell_type": "code",
   "execution_count": 18,
   "id": "8450efac",
   "metadata": {},
   "outputs": [
    {
     "data": {
      "text/plain": [
       "<Axes: xlabel='Rating', ylabel='Speciality'>"
      ]
     },
     "execution_count": 18,
     "metadata": {},
     "output_type": "execute_result"
    },
    {
     "data": {
      "image/png": "[encoded data removed]",
      "text/plain": [
       "<Figure size 640x480 with 1 Axes>"
      ]
     },
     "metadata": {},
     "output_type": "display_data"
    }
   ],
   "source": [
    "sns.barplot(y=df[\"Speciality\"],x=df[\"Rating\"])"
   ]
  },
  {
   "cell_type": "code",
   "execution_count": 19,
   "id": "2f31acad",
   "metadata": {},
   "outputs": [
    {
     "data": {
      "text/plain": [
       "Speciality\n",
       "Urologist             99\n",
       "Dermatologist         91\n",
       "Neurologist           86\n",
       "Cardiologist          77\n",
       "Proctologist          63\n",
       "Gastroenterologist    56\n",
       "Pulmonologist         55\n",
       "Immunologist          22\n",
       "Endocrinologist       18\n",
       "Orthopedist           12\n",
       "ENT Specialist         2\n",
       "Psychiatrist           2\n",
       "Karnataka              1\n",
       "Ophthalmologist        1\n",
       "General Physician      1\n",
       "Orthopedic             1\n",
       "Name: count, dtype: int64"
      ]
     },
     "execution_count": 19,
     "metadata": {},
     "output_type": "execute_result"
    }
   ],
   "source": [
    "df['Speciality'].value_counts()"
   ]
  },
  {
   "cell_type": "code",
   "execution_count": 20,
   "id": "0b975534",
   "metadata": {},
   "outputs": [
    {
     "data": {
      "text/plain": [
       "State\n",
       "MADHYA PRADESH         263\n",
       "GUJARAT                 69\n",
       "RAJASTHAN               34\n",
       "Maharashtra             34\n",
       "UTTAR PRADESH           17\n",
       "Karnataka               16\n",
       "Uttar Pradesh           15\n",
       "West Bengal             15\n",
       "MAHARASHTRA             14\n",
       "Rajasthan               14\n",
       "Telangana               12\n",
       "Delhi                    9\n",
       "ANDHRA PRADESH           8\n",
       "BIHAR                    8\n",
       "Tamil Nadu               8\n",
       "DELHI                    8\n",
       "KARNATAKA                6\n",
       "Gujarat                  6\n",
       "MADHYA PRADESH           6\n",
       "CHHATTISGARH             4\n",
       "HARYANA                  3\n",
       "TELANGANA                3\n",
       "MAHARASHTRA              2\n",
       "ASSAM                    2\n",
       "WEST BENGAL              2\n",
       "WEST BENGAL              1\n",
       "KERALA                   1\n",
       "ANDAMAN AND NICOBAR      1\n",
       "BIHAR                    1\n",
       "RAJASTHAN                1\n",
       "TAMIL NADU               1\n",
       "TRIPURA                  1\n",
       "MIZORAM                  1\n",
       "ODISHA                   1\n",
       "Name: count, dtype: int64"
      ]
     },
     "execution_count": 20,
     "metadata": {},
     "output_type": "execute_result"
    }
   ],
   "source": [
    "df['State'].value_counts()"
   ]
  },
  {
   "cell_type": "code",
   "execution_count": 21,
   "id": "da2d776c",
   "metadata": {},
   "outputs": [
    {
     "data": {
      "text/plain": [
       "City\n",
       "INDORE      119\n",
       "BHOPAL       49\n",
       "JABALPUR     49\n",
       "VADODARA     46\n",
       "RAJKOT       22\n",
       "           ... \n",
       "RAISEN        1\n",
       "RAIPUR        1\n",
       "GURUGRAM      1\n",
       "NELLORE       1\n",
       "KHANDWA       1\n",
       "Name: count, Length: 81, dtype: int64"
      ]
     },
     "execution_count": 21,
     "metadata": {},
     "output_type": "execute_result"
    }
   ],
   "source": [
    "df['City'].value_counts()"
   ]
  },
  {
   "cell_type": "code",
   "execution_count": 22,
   "id": "a39f26fb",
   "metadata": {},
   "outputs": [],
   "source": [
    "from sklearn.model_selection import train_test_split"
   ]
  },
  {
   "cell_type": "code",
   "execution_count": 23,
   "id": "616eb173",
   "metadata": {},
   "outputs": [],
   "source": [
    "disease_to_specialist = {\n",
    "    # 🦠 Infections & Allergies\n",
    "    'Fungal infection': 'Dermatologist',\n",
    "    'Allergy': 'Dermatologist',\n",
    "    'Chickenpox': 'Dermatologist',\n",
    "    'Common Cold': 'Infectious Disease Specialist',\n",
    "    'Pneumonia': 'Pulmonologist',\n",
    "\n",
    "    # 🍽️ Digestive Issues\n",
    "    'GERD': 'Gastroenterologist',\n",
    "    'Chronic cholestasis': 'Gastroenterologist',\n",
    "    'Peptic ulcer disease': 'Gastroenterologist',\n",
    "    'Gastroenteritis': 'Gastroenterologist',\n",
    "    'Jaundice': 'Gastroenterologist',\n",
    "    'Hemorrhoids': 'Proctologist',\n",
    "\n",
    "    # 🚨 Serious Conditions\n",
    "    'AIDS': 'Immunologist',\n",
    "    'Diabetes': 'Endocrinologist',\n",
    "    'Heart attack': 'Cardiologist',\n",
    "    'Hypertension': 'Cardiologist',\n",
    "    'Tuberculosis': 'Infectious Disease Specialist',\n",
    "\n",
    "    # 🧠 Neurological Disorders\n",
    "    'Migraine': 'Neurologist',\n",
    "    'Paralysis (brain hemorrhage)': 'Neurologist',\n",
    "    'Vertigo': 'Neurologist',\n",
    "\n",
    "    # 🏥 Liver Diseases\n",
    "    'Hepatitis A': 'Gastroenterologist',\n",
    "    'Hepatitis B': 'Gastroenterologist',\n",
    "    'Hepatitis C': 'Gastroenterologist',\n",
    "    'Hepatitis D': 'Gastroenterologist',\n",
    "    'Hepatitis E': 'Gastroenterologist',\n",
    "    'Alcoholic hepatitis': 'Gastroenterologist',\n",
    "\n",
    "    # 🦟 Mosquito-Borne Diseases\n",
    "    'Malaria': 'Infectious Disease Specialist',\n",
    "    'Dengue': 'Infectious Disease Specialist',\n",
    "    'Typhoid': 'Infectious Disease Specialist',\n",
    "\n",
    "    # 🧬 Thyroid & Hormonal Disorders\n",
    "    'Hypothyroidism': 'Endocrinologist',\n",
    "    'Hyperthyroidism': 'Endocrinologist',\n",
    "    'Hypoglycemia': 'Endocrinologist',\n",
    "\n",
    "    # 🫁 Respiratory\n",
    "    'Bronchial Asthma': 'Pulmonologist',\n",
    "\n",
    "    # 🦴 Joint & Bone\n",
    "    'Osteoarthritis': 'Orthopedist',\n",
    "    'Arthritis': 'Orthopedist',\n",
    "    'Cervical spondylosis': 'Neurologist',\n",
    "\n",
    "    # 🧖 Skin Conditions\n",
    "    'Acne': 'Dermatologist',\n",
    "    'Psoriasis': 'Dermatologist',\n",
    "    'Impetigo': 'Dermatologist',\n",
    "\n",
    "    # 💊 Other\n",
    "    'Drug Reaction': 'Immunologist',\n",
    "    'Urinary tract infection': 'Urologist',\n",
    "    'Varicose veins': 'Proctologist',\n",
    "}\n"
   ]
  },
  {
   "cell_type": "code",
   "execution_count": 40,
   "id": "0dda237f",
   "metadata": {},
   "outputs": [
    {
     "name": "stdout",
     "output_type": "stream",
     "text": [
      "None\n"
     ]
    }
   ],
   "source": [
    "# Set your predicted disease and location\n",
    "predicted_disease = 'Diabetes'\n",
    "City = 'Delhi'\n",
    "\n",
    "# Get the specialist\n",
    "specialist = disease_to_specialist.get(predicted_disease, disease_to_specialist[predicted_disease'])\n",
    "\n",
    "# Filter doctors\n",
    "filtered_doctors = df[\n",
    "    (df['Speciality'].str.lower() == specialist.lower()) &\n",
    "    (df['City'].str.lower().str.contains(City.lower()))\n",
    "]\n",
    "\n",
    "# Show results\n",
    "if not filtered_doctors.empty:\n",
    "    print(f\"\\nRecommended Specialist for {predicted_disease}: {specialist}\")\n",
    "    print(filtered_doctors[['Name of Doctor', 'Speciality', 'City']])\n",
    "else:\n",
    "    print(\"⚠️ No matching doctor found. Please consult a General Physician.\")\n"
   ]
  },
  {
   "cell_type": "code",
   "execution_count": 32,
   "id": "1d0bbfb2",
   "metadata": {},
   "outputs": [
    {
     "name": "stdout",
     "output_type": "stream",
     "text": [
      "Enter your location: Indore\n",
      "\n",
      "🔍 Recommended Specialist for 'Diabetes': Endocrinologist\n",
      "            Name of Doctor       Speciality    City   Phone No.\n",
      "330    DR. VERMA ABHYUDAYA  Endocrinologist  INDORE  9100000035\n",
      "335      DR. JAIN SUNIL M.  Endocrinologist  INDORE  9100000040\n",
      "337      DR. JULKA SANDEEP  Endocrinologist  INDORE  9100000042\n",
      "344  DR. SHRIVASTAVA SONAL  Endocrinologist  INDORE  9100000049\n",
      "346    DR. VERMA ABHYUDAYA  Endocrinologist  INDORE  9100000051\n"
     ]
    }
   ],
   "source": [
    "def recommend_doctor(predicted_disease, user_location):\n",
    "    specialist = disease_to_specialist.get(predicted_disease, 'Endocrinologist')\n",
    "\n",
    "    # Filter by specialization and location\n",
    "    filtered = df[\n",
    "        (df['Speciality'].str.lower() == specialist.lower()) &\n",
    "        (df['City'].str.lower().str.contains(user_location.lower()))\n",
    "    ]\n",
    "\n",
    "    if not filtered.empty:\n",
    "        print(f\"\\n🔍 Recommended Specialist for '{predicted_disease}': {specialist}\")\n",
    "        print(filtered[['Name of Doctor', 'Speciality', 'City','Phone No.']])\n",
    "    else:\n",
    "        print(f\"⚠️ No doctors found in {user_location} for {specialist}. Try searching in a nearby city.\")\n",
    "user_location = input(\"Enter your location: \")\n",
    "recommend_doctor(predicted_disease, user_location)"
   ]
  },
  {
   "cell_type": "code",
   "execution_count": null,
   "id": "4e45b854",
   "metadata": {},
   "outputs": [],
   "source": []
  },
  {
   "cell_type": "code",
   "execution_count": null,
   "id": "f825e207",
   "metadata": {},
   "outputs": [],
   "source": []
  }
 ],
 "metadata": {
  "kernelspec": {
   "display_name": "Python 3 (ipykernel)",
   "language": "python",
   "name": "python3"
  },
  "language_info": {
   "codemirror_mode": {
    "name": "ipython",
    "version": 3
   },
   "file_extension": ".py",
   "mimetype": "text/x-python",
   "name": "python",
   "nbconvert_exporter": "python",
   "pygments_lexer": "ipython3",
   "version": "3.11.5"
  }
 },
 "nbformat": 4,
 "nbformat_minor": 5
}
